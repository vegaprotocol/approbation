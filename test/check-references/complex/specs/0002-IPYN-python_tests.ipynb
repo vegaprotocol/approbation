This is a Python Notbook acting as a spec

# Acceptance Criteria
- A test (<a href="#0002-IPYN-001" name="0001-IPYN-001">0001-IPYN-001</a>)
